{
  "cells": [
    {
      "cell_type": "markdown",
      "metadata": {
        "id": "view-in-github",
        "colab_type": "text"
      },
      "source": [
        "<a href=\"https://colab.research.google.com/github/essiesalari/Mall-Customers-ML/blob/main/scratchpad.ipynb\" target=\"_parent\"><img src=\"https://colab.research.google.com/assets/colab-badge.svg\" alt=\"Open In Colab\"/></a>"
      ]
    },
    {
      "cell_type": "markdown",
      "source": [
        "# **Mall Customers ML Project**"
      ],
      "metadata": {
        "id": "I77UiPdH4v0P"
      }
    },
    {
      "cell_type": "code",
      "execution_count": 1,
      "metadata": {
        "id": "lIYdn1woOS1n"
      },
      "outputs": [],
      "source": [
        "import numpy as np\n",
        "import pandas as pd\n",
        "import matplotlib.pyplot as plt\n",
        "import seaborn as sns"
      ]
    },
    {
      "cell_type": "code",
      "source": [
        "# Clone the GitHub repository\n",
        "!git clone https://github.com/essiesalari/Mall-Customers-ML\n",
        "\n",
        "%cd Mall-Customers-ML\n",
        "\n",
        "!unzip Mall_Customers.zip"
      ],
      "metadata": {
        "id": "lA553Ush5LHD",
        "outputId": "cf3657a3-0aa0-4ba4-8a3c-01568b8171c6",
        "colab": {
          "base_uri": "https://localhost:8080/"
        }
      },
      "execution_count": 7,
      "outputs": [
        {
          "output_type": "stream",
          "name": "stdout",
          "text": [
            "Cloning into 'Mall-Customers-ML'...\n",
            "remote: Enumerating objects: 12, done.\u001b[K\n",
            "remote: Counting objects: 100% (12/12), done.\u001b[K\n",
            "remote: Compressing objects: 100% (9/9), done.\u001b[K\n",
            "remote: Total 12 (delta 1), reused 2 (delta 0), pack-reused 0\u001b[K\n",
            "Receiving objects: 100% (12/12), 4.72 KiB | 4.72 MiB/s, done.\n",
            "Resolving deltas: 100% (1/1), done.\n",
            "/content/Mall-Customers-ML/Mall-Customers-ML/Mall-Customers-ML/Mall-Customers-ML\n",
            "Archive:  Mall_Customers.zip\n",
            "  inflating: Mall_Customers.csv      \n"
          ]
        }
      ]
    },
    {
      "cell_type": "code",
      "source": [
        "# Read the\n",
        "df = pd.read_csv('Mall_Customers.csv')\n",
        "df"
      ],
      "metadata": {
        "id": "LPPcwbhi517S"
      },
      "execution_count": 9,
      "outputs": []
    }
  ],
  "metadata": {
    "colab": {
      "name": "scratchpad",
      "provenance": [],
      "include_colab_link": true
    },
    "kernelspec": {
      "display_name": "Python 3",
      "name": "python3"
    }
  },
  "nbformat": 4,
  "nbformat_minor": 0
}